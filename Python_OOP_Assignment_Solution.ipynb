{
 "cells": [
  {
   "cell_type": "code",
   "execution_count": 5,
   "metadata": {},
   "outputs": [],
   "source": [
    "## Python OOP Assignment"
   ]
  },
  {
   "cell_type": "markdown",
   "metadata": {
    "slideshow": {
     "slide_type": "slide"
    }
   },
   "source": [
    "<h4> Q1. What is the purpose of Python's OOP? </h4>"
   ]
  },
  {
   "cell_type": "code",
   "execution_count": null,
   "metadata": {},
   "outputs": [],
   "source": []
  },
  {
   "cell_type": "markdown",
   "metadata": {},
   "source": [
    "<h4> Q2. Where does an inheritance search look for an attribute? </h4>"
   ]
  },
  {
   "cell_type": "code",
   "execution_count": null,
   "metadata": {},
   "outputs": [],
   "source": []
  },
  {
   "cell_type": "markdown",
   "metadata": {},
   "source": [
    "<h4> Q21. Describe two methods for triggering exceptions in your script. </h4>"
   ]
  },
  {
   "cell_type": "code",
   "execution_count": 6,
   "metadata": {},
   "outputs": [
    {
     "name": "stdout",
     "output_type": "stream",
     "text": [
      "Division by zero\n",
      "Division by zero\n"
     ]
    }
   ],
   "source": [
    "'''Using the raise statement: The raise statement is used to raise an exception explicitly. The raise statement takes an exception object as its argument.\n",
    "Here is an example of how to use the raise statement to trigger an exception:'''\n",
    "\n",
    "def divide_numbers(a, b):\n",
    "    if b == 0:\n",
    "        raise ValueError(\"Division by zero\")\n",
    "    return a / b\n",
    "\n",
    "try:\n",
    "    divide_numbers(10, 0)\n",
    "except ValueError as e:\n",
    "    print(e)\n",
    "\n",
    "\n",
    "'''In this example, the divide_numbers() function will raise a ValueError exception if the second argument is 0. The raise statement will then print the exception message to the console.\n",
    "Using the assert statement: The assert statement is used to check a condition. If the condition is not met, an exception is raised.\n",
    "Here is an example of how to use the assert statement to trigger an exception:\n",
    "'''\n",
    "\n",
    "def divide_numbers(a, b):\n",
    "    assert b != 0, \"Division by zero\"\n",
    "    return a / b\n",
    "\n",
    "try:\n",
    "    divide_numbers(10, 0)\n",
    "except AssertionError as e:\n",
    "    print(e)"
   ]
  },
  {
   "cell_type": "markdown",
   "metadata": {},
   "source": []
  }
 ],
 "metadata": {
  "kernelspec": {
   "display_name": "Python 3 (ipykernel)",
   "language": "python",
   "name": "python3"
  },
  "language_info": {
   "codemirror_mode": {
    "name": "ipython",
    "version": 3
   },
   "file_extension": ".py",
   "mimetype": "text/x-python",
   "name": "python",
   "nbconvert_exporter": "python",
   "pygments_lexer": "ipython3",
   "version": "3.10.8"
  },
  "orig_nbformat": 4
 },
 "nbformat": 4,
 "nbformat_minor": 2
}
