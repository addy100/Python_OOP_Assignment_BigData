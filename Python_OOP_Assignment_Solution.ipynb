{
 "cells": [
  {
   "cell_type": "code",
   "execution_count": 5,
   "metadata": {},
   "outputs": [],
   "source": [
    "## Python OOP Assignment"
   ]
  },
  {
   "cell_type": "markdown",
   "metadata": {
    "slideshow": {
     "slide_type": "slide"
    }
   },
   "source": [
    "<h4> Q1. What is the purpose of Python's OOP? </h4>"
   ]
  },
  {
   "cell_type": "code",
   "execution_count": null,
   "metadata": {},
   "outputs": [],
   "source": [
    "'''Object-oriented programming (OOP) in Python is a way of writing code that makes it easier to understand, maintain, and reuse.\n",
    "\n",
    "OOP does this by grouping related data and functions together into objects. This makes the code more organized and modular, which makes it easier to understand and maintain. It also makes the code more reusable, because programmers can create new objects that inherit from existing objects.'''"
   ]
  },
  {
   "cell_type": "markdown",
   "metadata": {},
   "source": [
    "<h4> Q2. Where does an inheritance search look for an attribute? </h4>"
   ]
  },
  {
   "cell_type": "code",
   "execution_count": null,
   "metadata": {},
   "outputs": [],
   "source": [
    "'''An inheritance search looks for an attribute in the following order:\n",
    "i)  The current class\n",
    "ii) The immediate superclasses of the current class\n",
    "iii)    The superclasses of the immediate superclasses, and so on, until the base class is reached\n",
    "iv) If the attribute is not found in any of the classes in the inheritance chain, a AttributeError exception is raised.\n",
    "\n",
    "Code:\n",
    "'''\n",
    "\n",
    "class A:\n",
    "    def __init__(self):\n",
    "        self.name = \"A\"\n",
    "\n",
    "class B(A):\n",
    "    def __init__(self):\n",
    "        super().__init__()\n",
    "        self.name = \"B\"\n",
    "\n",
    "class C(B):\n",
    "    def __init__(self):\n",
    "        super().__init__()\n",
    "        self.name = \"C\"\n",
    "\n",
    "c = C()\n",
    "print(c.name)  # \"C\""
   ]
  },
  {
   "cell_type": "markdown",
   "metadata": {},
   "source": [
    "<h4> Q3. How do you distinguish between a class object and an instance object? </h4>"
   ]
  },
  {
   "cell_type": "code",
   "execution_count": null,
   "metadata": {},
   "outputs": [],
   "source": [
    "'''A class object is a blueprint for creating instances. It defines the properties and methods that all instances of\n",
    " the class will have. An instance object is a specific instantiation of a class. It has all the properties and \n",
    " methods of the class, but it also has its own unique state.'''\n",
    "class A:\n",
    "    def __init__(self):\n",
    "        self.name = \"A\"\n",
    "\n",
    "a = A()\n",
    "\n",
    "print(type(a))  # <class '__main__.A'>\n",
    "print(type(A))  # <class 'type'>\n",
    "\n",
    "'''As you can see, the output of type(a) is the class A. This is because a is an instance of the class A. The output \n",
    "of type(A) is the type object. This is because A is a class object.'''"
   ]
  },
  {
   "cell_type": "markdown",
   "metadata": {},
   "source": [
    "<h4> Q4. What makes the first argument in a class’s method function special? </h4>"
   ]
  },
  {
   "cell_type": "code",
   "execution_count": null,
   "metadata": {},
   "outputs": [],
   "source": [
    "'''The first argument in a class's method function is special because it refers to the current instance of the class. This argument is usually named self.\n",
    "\n",
    "For example, the following code defines a class called Car and a method called drive(). The drive() method takes one argument, which is the current instance of the Car class.'''\n",
    "\n",
    "class Car:\n",
    "    def __init__(self, make, model, year):\n",
    "        self.make = make\n",
    "        self.model = model\n",
    "        self.year = year\n",
    "\n",
    "    def drive(self):\n",
    "        print(\"The car is driving\")"
   ]
  },
  {
   "cell_type": "markdown",
   "metadata": {},
   "source": [
    "<h4> Q5. The following code creates an instance of the Car class and calls the drive() method. The drive() method prints the following message: </h4>"
   ]
  },
  {
   "cell_type": "code",
   "execution_count": null,
   "metadata": {},
   "outputs": [],
   "source": [
    "'''The init() method is a special method that is called when an instance of a class is created. The init() method is used to initialize the instance's attributes.\n",
    "\n",
    "The init() method always takes at least one argument, which is the current instance of the class. '''"
   ]
  },
  {
   "cell_type": "markdown",
   "metadata": {},
   "source": [
    "<h4> Q6. What is the process for creating a class instance? </h4>"
   ]
  },
  {
   "cell_type": "code",
   "execution_count": null,
   "metadata": {},
   "outputs": [],
   "source": [
    "'''To create a class instance, you need to call the class name with the desired arguments. For example, the following code creates an instance of the Car class with the make \"Toyota\" and the model \"Camry\":\n",
    "The Car class has an init() method that takes two arguments, which are the make and model of the car. The init() method sets the make and model attributes of the instance.\n",
    "\n",
    "The car variable is an instance of the Car class. The car variable has the make and model attributes, which are set to \"Toyota\" and \"Camry\", respectively.'''\n",
    "\n",
    "class Car:\n",
    "    def __init__(self, make, model):\n",
    "        self.make = make\n",
    "        self.model = model\n",
    "\n",
    "car = Car(\"Toyota\", \"Camry\")"
   ]
  },
  {
   "cell_type": "markdown",
   "metadata": {},
   "source": [
    "<h4> Q7. What is the process for creating a class? </h4>"
   ]
  },
  {
   "cell_type": "code",
   "execution_count": null,
   "metadata": {},
   "outputs": [],
   "source": [
    "class Car:\n",
    "    def __init__(self, make, model):\n",
    "        self.make = make\n",
    "        self.model = model\n",
    "\n",
    "    def drive(self):\n",
    "        print(\"The car is driving\")\n",
    "\n",
    "'''The Car class has an init() method and a drive() method. The init() method is used to initialize the instance's attributes. The drive() method prints the message \"The car is driving\".'''"
   ]
  },
  {
   "cell_type": "markdown",
   "metadata": {},
   "source": [
    "<h4> Q21. Describe two methods for triggering exceptions in your script. </h4>"
   ]
  },
  {
   "cell_type": "code",
   "execution_count": 6,
   "metadata": {},
   "outputs": [
    {
     "name": "stdout",
     "output_type": "stream",
     "text": [
      "Division by zero\n",
      "Division by zero\n"
     ]
    }
   ],
   "source": [
    "'''Using the raise statement: The raise statement is used to raise an exception explicitly. The raise statement takes an exception object as its argument.\n",
    "Here is an example of how to use the raise statement to trigger an exception:'''\n",
    "\n",
    "def divide_numbers(a, b):\n",
    "    if b == 0:\n",
    "        raise ValueError(\"Division by zero\")\n",
    "    return a / b\n",
    "\n",
    "try:\n",
    "    divide_numbers(10, 0)\n",
    "except ValueError as e:\n",
    "    print(e)\n",
    "\n",
    "\n",
    "'''In this example, the divide_numbers() function will raise a ValueError exception if the second argument is 0. The raise statement will then print the exception message to the console.\n",
    "Using the assert statement: The assert statement is used to check a condition. If the condition is not met, an exception is raised.\n",
    "Here is an example of how to use the assert statement to trigger an exception:\n",
    "'''\n",
    "\n",
    "def divide_numbers(a, b):\n",
    "    assert b != 0, \"Division by zero\"\n",
    "    return a / b\n",
    "\n",
    "try:\n",
    "    divide_numbers(10, 0)\n",
    "except AssertionError as e:\n",
    "    print(e)"
   ]
  },
  {
   "cell_type": "markdown",
   "metadata": {},
   "source": []
  }
 ],
 "metadata": {
  "kernelspec": {
   "display_name": "Python 3 (ipykernel)",
   "language": "python",
   "name": "python3"
  },
  "orig_nbformat": 4
 },
 "nbformat": 4,
 "nbformat_minor": 2
}
